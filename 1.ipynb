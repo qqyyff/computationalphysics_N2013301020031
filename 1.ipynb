{
 "cells": [
  {
   "cell_type": "code",
   "execution_count": 1,
   "metadata": {},
   "outputs": [],
   "source": [
    "import os \n",
    "import numpy as np \n",
    "import matplotlib.pyplot as plt\n",
    "%matplotlib inline"
   ]
  },
  {
   "cell_type": "code",
   "execution_count": 2,
   "metadata": {},
   "outputs": [],
   "source": [
    "# explore the electronic distribution function\n",
    "def r0(p, z):\n",
    "    c = z/np.sqrt(np.square(z)+np.square(p))\n",
    "    y20 = 0.25*np.sqrt(5.0/np.pi)*(3*c*c-1)\n",
    "    y30 = 0.25*np.sqrt(7.0/np.pi)*c*(5*c*c-3)\n",
    "    return 10.0*(1+y20+0.5*y30)\n",
    "\n",
    "def f(p, z):\n",
    "    return 0.8/(1.0+np.exp((np.sqrt(z*z+p*p)-r0(p,z))/0.6))\n"
   ]
  },
  {
   "cell_type": "code",
   "execution_count": 5,
   "metadata": {},
   "outputs": [
    {
     "name": "stderr",
     "output_type": "stream",
     "text": [
      "/anaconda2/lib/python2.7/site-packages/ipykernel_launcher.py:3: RuntimeWarning: invalid value encountered in double_scalars\n",
      "  This is separate from the ipykernel package so we can avoid doing imports until\n"
     ]
    },
    {
     "data": {
      "image/png": "[encoded data removed]",
      "text/plain": [
       "<matplotlib.figure.Figure at 0x112904fd0>"
      ]
     },
     "metadata": {},
     "output_type": "display_data"
    },
    {
     "name": "stdout",
     "output_type": "stream",
     "text": [
      "1.728589079022818e-05 3.5710147910118325e-05 0.7999530616790538\n"
     ]
    }
   ],
   "source": [
    "f_test = []\n",
    "for i in range(16):\n",
    "    for j in range(-25, 26):\n",
    "        f_test.append(f(i,j))\n",
    "f_test=np.reshape(np.array(f_test), (16,51))\n",
    "fig = plt.figure(figsize=(5,10))\n",
    "plt.imshow(f_test)\n",
    "# plt.colorbar()\n",
    "plt.xlabel('z')\n",
    "plt.ylabel('p')\n",
    "plt.show()\n",
    "print f(1, -19), f(1, 26), f(1,0)\n",
    "#so we choose p(0, 12), z(-19, 26), we should try even and uneven sampling "
   ]
  },
  {
   "cell_type": "code",
   "execution_count": 54,
   "metadata": {},
   "outputs": [],
   "source": [
    "# get matrix A for grid method \n",
    "def get_A(p_start, p_end, z_start, z_end, n_p, n_z, k2):\n",
    "    dp = float((p_end-p_start)/n_p)\n",
    "    dz = float((z_end- z_start)/n_z)\n",
    "    print(dp, dz)\n",
    "    S = n_p*n_z\n",
    "    A = np.zeros((S,S))\n",
    "    for i in range(S):\n",
    "        A[i,i]=2*(1/(dp*dp)+1/(dz*dz))+k2/np.square((int(i/n_z)+1.0)*dp)\n",
    "        if i<S-1:\n",
    "            A[i,i+1]=(-1.0-1.0/(2.0*(int(i/n_z)+1.0)))/(dp*dp)\n",
    "        if i>0:\n",
    "            A[i,i-1] = (-1.0+1.0/(2.0*(int(i/n_z)+1.0)))/(dp*dp)\n",
    "        if i>=n_z:\n",
    "            A[i, i-n_z]=-1/(dz*dz)\n",
    "        if i<=S-1-n_z:\n",
    "            A[i, i+n_z]=-1/(dz*dz)\n",
    "    return A"
   ]
  },
  {
   "cell_type": "code",
   "execution_count": 55,
   "metadata": {},
   "outputs": [
    {
     "name": "stdout",
     "output_type": "stream",
     "text": [
      "(0.8, 3.0)\n",
      "[[ 4.90972222 -2.34375     0.         ...  0.          0.\n",
      "   0.        ]\n",
      " [-0.78125     4.90972222 -2.34375    ...  0.          0.\n",
      "   0.        ]\n",
      " [ 0.         -0.78125     4.90972222 ...  0.          0.\n",
      "   0.        ]\n",
      " ...\n",
      " [ 0.          0.          0.         ...  3.35416667 -1.61458333\n",
      "   0.        ]\n",
      " [ 0.          0.          0.         ... -1.51041667  3.35416667\n",
      "  -1.61458333]\n",
      " [ 0.          0.          0.         ...  0.         -1.51041667\n",
      "   3.35416667]] (225, 225)\n"
     ]
    }
   ],
   "source": [
    "#first we try 15*15 grid\n",
    "A_test = get_A(0.0,12.0,-19.0,26.0,15,15,1)\n",
    "# np.set_printoptions(threshold=np.nan)\n",
    "print A_test, A_test.shape"
   ]
  },
  {
   "cell_type": "code",
   "execution_count": 44,
   "metadata": {},
   "outputs": [],
   "source": [
    "# get vector f for gird method\n",
    "def get_f(p_start, p_end, z_start, z_end, n_p, n_z):\n",
    "    dp = float((p_end-p_start)/n_p)\n",
    "    dz = float((z_end- z_start)/n_z)\n",
    "    F=[]\n",
    "    for i in range(1, n_p+1):\n",
    "        for j in range(n_z):\n",
    "            p_tmp = i*dp\n",
    "            z_tmp = -19+j*dz\n",
    "            F.append(f(p_tmp, z_tmp))\n",
    "    F=np.array(F, np.float32)\n",
    "    print('F', F.shape) \n",
    "    return F"
   ]
  },
  {
   "cell_type": "code",
   "execution_count": 45,
   "metadata": {},
   "outputs": [],
   "source": [
    "#QR decomposition to solve linear equations\n",
    "def QR_solve(A, b):\n",
    "    Q, R = np.linalg.qr(A)\n",
    "    N = A.shape[0]\n",
    "    B = np.matmul(np.transpose(Q), b)\n",
    "    x = np.zeros(N)\n",
    "    for i in range(N)[::-1]:\n",
    "        x[i]= B[i]\n",
    "        for j in range(i+1, N):\n",
    "            x[i]-=R[i, j]*x[j]\n",
    "        x[i]=x[i]/R[i,i]\n",
    "    return x"
   ]
  },
  {
   "cell_type": "code",
   "execution_count": null,
   "metadata": {},
   "outputs": [],
   "source": []
  },
  {
   "cell_type": "code",
   "execution_count": null,
   "metadata": {},
   "outputs": [],
   "source": []
  },
  {
   "cell_type": "code",
   "execution_count": 58,
   "metadata": {},
   "outputs": [
    {
     "name": "stdout",
     "output_type": "stream",
     "text": [
      "(0.24, 0.9)\n",
      "('F', (2500,))\n",
      "-4.716761703438266e-12\n"
     ]
    }
   ],
   "source": [
    "# try 100*100 grid \n",
    "n_p = 50\n",
    "n_z=50\n",
    "A0 = get_A(0.0,12.0,-19.0,26.0,n_p,n_z,1)\n",
    "F0 = get_f(0.0,12.0,-19.0,26.0,n_p,n_z)\n",
    "x0 = QR_solve(A0, F0)\n",
    "# print x0\n",
    "print np.sum(F0-np.matmul(A0, x0))"
   ]
  },
  {
   "cell_type": "code",
   "execution_count": 59,
   "metadata": {},
   "outputs": [
    {
     "data": {
      "image/png": "[encoded data removed]",
      "text/plain": [
       "<matplotlib.figure.Figure at 0x11345d4d0>"
      ]
     },
     "metadata": {},
     "output_type": "display_data"
    }
   ],
   "source": [
    "#visualize the solution \n",
    "x = np.reshape(x0, (n_p,n_z))\n",
    "plt.xlabel('z')\n",
    "plt.ylabel('p')\n",
    "plt.imshow(x)\n",
    "plt.colorbar()\n",
    "plt.show()"
   ]
  },
  {
   "cell_type": "code",
   "execution_count": 60,
   "metadata": {},
   "outputs": [
    {
     "name": "stdout",
     "output_type": "stream",
     "text": [
      "(0.4, 0.45)\n",
      "('F', (3000,))\n",
      "-8.004374940639991e-12\n"
     ]
    }
   ],
   "source": [
    "# try 30*100 grid \n",
    "n_p = 30\n",
    "n_z=100\n",
    "A0 = get_A(0.0,12.0,-19.0,26.0,n_p,n_z,1)\n",
    "F0 = get_f(0.0,12.0,-19.0,26.0,n_p,n_z)\n",
    "x0 = QR_solve(A0, F0)\n",
    "# print x0\n",
    "print np.sum(F0-np.matmul(A0, x0))"
   ]
  },
  {
   "cell_type": "code",
   "execution_count": 61,
   "metadata": {},
   "outputs": [
    {
     "data": {
      "image/png": "[encoded data removed]",
      "text/plain": [
       "<matplotlib.figure.Figure at 0x1117dcbd0>"
      ]
     },
     "metadata": {},
     "output_type": "display_data"
    }
   ],
   "source": [
    "#visualize the solution \n",
    "x = np.reshape(x0, (n_p,n_z))\n",
    "fig= plt.figure(figsize=(8,8))\n",
    "plt.xlabel('z')\n",
    "plt.ylabel('p')\n",
    "plt.imshow(x)\n",
    "# plt.colorbar()\n",
    "plt.show()"
   ]
  },
  {
   "cell_type": "code",
   "execution_count": null,
   "metadata": {},
   "outputs": [],
   "source": []
  }
 ],
 "metadata": {
  "kernelspec": {
   "display_name": "Python 2",
   "language": "python",
   "name": "python2"
  },
  "language_info": {
   "codemirror_mode": {
    "name": "ipython",
    "version": 2
   },
   "file_extension": ".py",
   "mimetype": "text/x-python",
   "name": "python",
   "nbconvert_exporter": "python",
   "pygments_lexer": "ipython2",
   "version": "2.7.3"
  }
 },
 "nbformat": 4,
 "nbformat_minor": 2
}
